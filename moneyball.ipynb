{
 "cells": [
  {
   "cell_type": "code",
   "execution_count": 215,
   "metadata": {
    "collapsed": true
   },
   "outputs": [],
   "source": [
    "import numpy as np\n",
    "import pandas as pd\n",
    "from pandas import DataFrame, Series"
   ]
  },
  {
   "cell_type": "markdown",
   "metadata": {},
   "source": [
    "# Moneyball\n",
    "\n",
    "##### Using the most recent complete baseball statistics dataset from Sean Lahman's website, this notebook provides the names and positions of the nine best players based on their on-base percentage(OBP) and salary.  The nine names presented are determined by looking for players with the best OBP,  lowest salary, and most number of games played in a certain position.  "
   ]
  },
  {
   "cell_type": "markdown",
   "metadata": {},
   "source": [
    "### Reading in all the .csv files"
   ]
  },
  {
   "cell_type": "code",
   "execution_count": 233,
   "metadata": {
    "collapsed": false
   },
   "outputs": [],
   "source": [
    "player_info = pd.read_csv('data/master.csv', usecols=[0, 13, 14]).fillna(0)"
   ]
  },
  {
   "cell_type": "code",
   "execution_count": 234,
   "metadata": {
    "collapsed": true
   },
   "outputs": [],
   "source": [
    "batting_info = pd.read_csv('data/batting.csv', usecols=[0, 6, 8, 15, 18, 20]).fillna(0)"
   ]
  },
  {
   "cell_type": "code",
   "execution_count": 235,
   "metadata": {
    "collapsed": true
   },
   "outputs": [],
   "source": [
    "salary_info = pd.read_csv('data/salaries.csv', usecols=[0, 3, 4]).fillna(0)"
   ]
  },
  {
   "cell_type": "code",
   "execution_count": 236,
   "metadata": {
    "collapsed": false
   },
   "outputs": [],
   "source": [
    "fielding = pd.read_csv('data/appearances.csv', usecols=[3, 5, 8, 9, 10, 11, 12, 13, 14, 15, 16]).fillna(0)"
   ]
  },
  {
   "cell_type": "markdown",
   "metadata": {},
   "source": [
    "### Merging all the DataFrames"
   ]
  },
  {
   "cell_type": "code",
   "execution_count": 220,
   "metadata": {
    "collapsed": true
   },
   "outputs": [],
   "source": [
    "all_info = player_info.merge(batting_info, on='playerID')"
   ]
  },
  {
   "cell_type": "code",
   "execution_count": 221,
   "metadata": {
    "collapsed": false
   },
   "outputs": [],
   "source": [
    "all_info = all_info.merge(salary_info, on='playerID')"
   ]
  },
  {
   "cell_type": "code",
   "execution_count": 222,
   "metadata": {
    "collapsed": false
   },
   "outputs": [],
   "source": [
    "all_info = all_info.merge(fielding, on='playerID')"
   ]
  },
  {
   "cell_type": "markdown",
   "metadata": {},
   "source": [
    "### Calculating the OBP for each player during each season and adding it to DataFrame"
   ]
  },
  {
   "cell_type": "code",
   "execution_count": 223,
   "metadata": {
    "collapsed": false
   },
   "outputs": [],
   "source": [
    "numerator = all_info['H'] + all_info['BB'] + all_info['HBP']\n",
    "denominator = all_info['AB'] + all_info['BB'] + all_info['HBP'] + all_info['SF']\n",
    "all_info['OBP'] = numerator / denominator"
   ]
  },
  {
   "cell_type": "code",
   "execution_count": 224,
   "metadata": {
    "collapsed": true
   },
   "outputs": [],
   "source": [
    "obp_per_dollar = all_info['OBP'] / all_info['salary']\n",
    "all_info['OBP_per_dollar'] = obp_per_dollar"
   ]
  },
  {
   "cell_type": "markdown",
   "metadata": {},
   "source": [
    "### Filtering data to get latest salary for each player who has been paid in the past 5 years and has a valid OBP."
   ]
  },
  {
   "cell_type": "code",
   "execution_count": 225,
   "metadata": {
    "collapsed": false
   },
   "outputs": [],
   "source": [
    "all_info = all_info.sort_values('yearID')"
   ]
  },
  {
   "cell_type": "code",
   "execution_count": 226,
   "metadata": {
    "collapsed": true
   },
   "outputs": [],
   "source": [
    "all_info = all_info[all_info.yearID >= 2011]"
   ]
  },
  {
   "cell_type": "code",
   "execution_count": 227,
   "metadata": {
    "collapsed": true
   },
   "outputs": [],
   "source": [
    "all_info = all_info.drop_duplicates('playerID', keep='last')"
   ]
  },
  {
   "cell_type": "code",
   "execution_count": 228,
   "metadata": {
    "collapsed": true
   },
   "outputs": [],
   "source": [
    "all_info = all_info.drop_duplicates('OBP', keep=False)"
   ]
  },
  {
   "cell_type": "markdown",
   "metadata": {},
   "source": [
    "### Choosing the best player for the money for each position"
   ]
  },
  {
   "cell_type": "code",
   "execution_count": 229,
   "metadata": {
    "collapsed": true
   },
   "outputs": [],
   "source": [
    "def get_best_player(df):\n",
    "    p_list = ['G_p', 'G_c', 'G_1b', 'G_2b', 'G_3b', 'G_ss', 'G_lf', 'G_cf', 'G_rf']\n",
    "    best = []\n",
    "    for item in p_list:\n",
    "        best.append(df[df[item] > 50].sort(['OBP_per_dollar'], ascending=False)[:1])\n",
    "    return best"
   ]
  },
  {
   "cell_type": "code",
   "execution_count": 230,
   "metadata": {
    "collapsed": false
   },
   "outputs": [
    {
     "name": "stderr",
     "output_type": "stream",
     "text": [
      "/usr/local/lib/python3.5/site-packages/ipykernel/__main__.py:5: FutureWarning: sort(columns=....) is deprecated, use sort_values(by=.....)\n"
     ]
    }
   ],
   "source": [
    "best = get_best_player(all_info)"
   ]
  },
  {
   "cell_type": "code",
   "execution_count": 231,
   "metadata": {
    "collapsed": false,
    "scrolled": true
   },
   "outputs": [],
   "source": [
    "best_players = pd.concat(best)"
   ]
  },
  {
   "cell_type": "code",
   "execution_count": 232,
   "metadata": {
    "collapsed": false
   },
   "outputs": [
    {
     "data": {
      "text/html": [
       "<div>\n",
       "<table border=\"1\" class=\"dataframe\">\n",
       "  <thead>\n",
       "    <tr style=\"text-align: right;\">\n",
       "      <th></th>\n",
       "      <th>playerID</th>\n",
       "      <th>nameFirst</th>\n",
       "      <th>nameLast</th>\n",
       "      <th>AB</th>\n",
       "      <th>H</th>\n",
       "      <th>BB</th>\n",
       "      <th>HBP</th>\n",
       "      <th>SF</th>\n",
       "      <th>yearID</th>\n",
       "      <th>salary</th>\n",
       "      <th>...</th>\n",
       "      <th>G_c</th>\n",
       "      <th>G_1b</th>\n",
       "      <th>G_2b</th>\n",
       "      <th>G_3b</th>\n",
       "      <th>G_ss</th>\n",
       "      <th>G_lf</th>\n",
       "      <th>G_cf</th>\n",
       "      <th>G_rf</th>\n",
       "      <th>OBP</th>\n",
       "      <th>OBP_per_dollar</th>\n",
       "    </tr>\n",
       "  </thead>\n",
       "  <tbody>\n",
       "    <tr>\n",
       "      <th>4126654</th>\n",
       "      <td>woodtr01</td>\n",
       "      <td>Travis</td>\n",
       "      <td>Wood</td>\n",
       "      <td>63.0</td>\n",
       "      <td>14.0</td>\n",
       "      <td>3.0</td>\n",
       "      <td>0.0</td>\n",
       "      <td>0.0</td>\n",
       "      <td>2015</td>\n",
       "      <td>5686000</td>\n",
       "      <td>...</td>\n",
       "      <td>0</td>\n",
       "      <td>0</td>\n",
       "      <td>0</td>\n",
       "      <td>0</td>\n",
       "      <td>0</td>\n",
       "      <td>0</td>\n",
       "      <td>0</td>\n",
       "      <td>0</td>\n",
       "      <td>0.257576</td>\n",
       "      <td>4.529999e-08</td>\n",
       "    </tr>\n",
       "    <tr>\n",
       "      <th>3771700</th>\n",
       "      <td>towlejr01</td>\n",
       "      <td>J. R.</td>\n",
       "      <td>Towles</td>\n",
       "      <td>40.0</td>\n",
       "      <td>15.0</td>\n",
       "      <td>3.0</td>\n",
       "      <td>1.0</td>\n",
       "      <td>0.0</td>\n",
       "      <td>2011</td>\n",
       "      <td>424000</td>\n",
       "      <td>...</td>\n",
       "      <td>53</td>\n",
       "      <td>0</td>\n",
       "      <td>0</td>\n",
       "      <td>0</td>\n",
       "      <td>0</td>\n",
       "      <td>0</td>\n",
       "      <td>0</td>\n",
       "      <td>0</td>\n",
       "      <td>0.431818</td>\n",
       "      <td>1.018439e-06</td>\n",
       "    </tr>\n",
       "    <tr>\n",
       "      <th>2063734</th>\n",
       "      <td>lahaibr01</td>\n",
       "      <td>Bryan</td>\n",
       "      <td>LaHair</td>\n",
       "      <td>59.0</td>\n",
       "      <td>17.0</td>\n",
       "      <td>9.0</td>\n",
       "      <td>0.0</td>\n",
       "      <td>1.0</td>\n",
       "      <td>2012</td>\n",
       "      <td>482500</td>\n",
       "      <td>...</td>\n",
       "      <td>0</td>\n",
       "      <td>58</td>\n",
       "      <td>0</td>\n",
       "      <td>0</td>\n",
       "      <td>0</td>\n",
       "      <td>2</td>\n",
       "      <td>0</td>\n",
       "      <td>34</td>\n",
       "      <td>0.376812</td>\n",
       "      <td>7.809567e-07</td>\n",
       "    </tr>\n",
       "    <tr>\n",
       "      <th>3154517</th>\n",
       "      <td>rhymewi01</td>\n",
       "      <td>Will</td>\n",
       "      <td>Rhymes</td>\n",
       "      <td>191.0</td>\n",
       "      <td>58.0</td>\n",
       "      <td>14.0</td>\n",
       "      <td>0.0</td>\n",
       "      <td>1.0</td>\n",
       "      <td>2011</td>\n",
       "      <td>419000</td>\n",
       "      <td>...</td>\n",
       "      <td>0</td>\n",
       "      <td>0</td>\n",
       "      <td>53</td>\n",
       "      <td>0</td>\n",
       "      <td>0</td>\n",
       "      <td>0</td>\n",
       "      <td>0</td>\n",
       "      <td>0</td>\n",
       "      <td>0.349515</td>\n",
       "      <td>8.341636e-07</td>\n",
       "    </tr>\n",
       "    <tr>\n",
       "      <th>955994</th>\n",
       "      <td>duffyma01</td>\n",
       "      <td>Matt</td>\n",
       "      <td>Duffy</td>\n",
       "      <td>573.0</td>\n",
       "      <td>169.0</td>\n",
       "      <td>30.0</td>\n",
       "      <td>5.0</td>\n",
       "      <td>2.0</td>\n",
       "      <td>2015</td>\n",
       "      <td>509000</td>\n",
       "      <td>...</td>\n",
       "      <td>0</td>\n",
       "      <td>1</td>\n",
       "      <td>9</td>\n",
       "      <td>134</td>\n",
       "      <td>3</td>\n",
       "      <td>0</td>\n",
       "      <td>0</td>\n",
       "      <td>0</td>\n",
       "      <td>0.334426</td>\n",
       "      <td>6.570260e-07</td>\n",
       "    </tr>\n",
       "    <tr>\n",
       "      <th>354717</th>\n",
       "      <td>bogaexa01</td>\n",
       "      <td>Xander</td>\n",
       "      <td>Bogaerts</td>\n",
       "      <td>613.0</td>\n",
       "      <td>196.0</td>\n",
       "      <td>32.0</td>\n",
       "      <td>3.0</td>\n",
       "      <td>3.0</td>\n",
       "      <td>2015</td>\n",
       "      <td>543000</td>\n",
       "      <td>...</td>\n",
       "      <td>0</td>\n",
       "      <td>0</td>\n",
       "      <td>0</td>\n",
       "      <td>0</td>\n",
       "      <td>156</td>\n",
       "      <td>0</td>\n",
       "      <td>0</td>\n",
       "      <td>0</td>\n",
       "      <td>0.354839</td>\n",
       "      <td>6.534783e-07</td>\n",
       "    </tr>\n",
       "    <tr>\n",
       "      <th>1490260</th>\n",
       "      <td>guyerbr01</td>\n",
       "      <td>Brandon</td>\n",
       "      <td>Guyer</td>\n",
       "      <td>259.0</td>\n",
       "      <td>69.0</td>\n",
       "      <td>16.0</td>\n",
       "      <td>11.0</td>\n",
       "      <td>1.0</td>\n",
       "      <td>2015</td>\n",
       "      <td>515800</td>\n",
       "      <td>...</td>\n",
       "      <td>0</td>\n",
       "      <td>0</td>\n",
       "      <td>0</td>\n",
       "      <td>0</td>\n",
       "      <td>0</td>\n",
       "      <td>60</td>\n",
       "      <td>23</td>\n",
       "      <td>41</td>\n",
       "      <td>0.334495</td>\n",
       "      <td>6.484970e-07</td>\n",
       "    </tr>\n",
       "    <tr>\n",
       "      <th>2872642</th>\n",
       "      <td>pederjo01</td>\n",
       "      <td>Joc</td>\n",
       "      <td>Pederson</td>\n",
       "      <td>28.0</td>\n",
       "      <td>4.0</td>\n",
       "      <td>9.0</td>\n",
       "      <td>0.0</td>\n",
       "      <td>0.0</td>\n",
       "      <td>2015</td>\n",
       "      <td>510000</td>\n",
       "      <td>...</td>\n",
       "      <td>0</td>\n",
       "      <td>0</td>\n",
       "      <td>0</td>\n",
       "      <td>0</td>\n",
       "      <td>0</td>\n",
       "      <td>0</td>\n",
       "      <td>147</td>\n",
       "      <td>0</td>\n",
       "      <td>0.351351</td>\n",
       "      <td>6.889242e-07</td>\n",
       "    </tr>\n",
       "    <tr>\n",
       "      <th>3553479</th>\n",
       "      <td>springe01</td>\n",
       "      <td>George</td>\n",
       "      <td>Springer</td>\n",
       "      <td>388.0</td>\n",
       "      <td>107.0</td>\n",
       "      <td>50.0</td>\n",
       "      <td>8.0</td>\n",
       "      <td>3.0</td>\n",
       "      <td>2015</td>\n",
       "      <td>512900</td>\n",
       "      <td>...</td>\n",
       "      <td>0</td>\n",
       "      <td>0</td>\n",
       "      <td>0</td>\n",
       "      <td>0</td>\n",
       "      <td>0</td>\n",
       "      <td>0</td>\n",
       "      <td>10</td>\n",
       "      <td>93</td>\n",
       "      <td>0.367483</td>\n",
       "      <td>7.164814e-07</td>\n",
       "    </tr>\n",
       "  </tbody>\n",
       "</table>\n",
       "<p>9 rows × 22 columns</p>\n",
       "</div>"
      ],
      "text/plain": [
       "          playerID nameFirst  nameLast     AB      H    BB   HBP   SF  yearID  \\\n",
       "4126654   woodtr01    Travis      Wood   63.0   14.0   3.0   0.0  0.0    2015   \n",
       "3771700  towlejr01     J. R.    Towles   40.0   15.0   3.0   1.0  0.0    2011   \n",
       "2063734  lahaibr01     Bryan    LaHair   59.0   17.0   9.0   0.0  1.0    2012   \n",
       "3154517  rhymewi01      Will    Rhymes  191.0   58.0  14.0   0.0  1.0    2011   \n",
       "955994   duffyma01      Matt     Duffy  573.0  169.0  30.0   5.0  2.0    2015   \n",
       "354717   bogaexa01    Xander  Bogaerts  613.0  196.0  32.0   3.0  3.0    2015   \n",
       "1490260  guyerbr01   Brandon     Guyer  259.0   69.0  16.0  11.0  1.0    2015   \n",
       "2872642  pederjo01       Joc  Pederson   28.0    4.0   9.0   0.0  0.0    2015   \n",
       "3553479  springe01    George  Springer  388.0  107.0  50.0   8.0  3.0    2015   \n",
       "\n",
       "          salary       ...        G_c  G_1b  G_2b  G_3b  G_ss  G_lf  G_cf  \\\n",
       "4126654  5686000       ...          0     0     0     0     0     0     0   \n",
       "3771700   424000       ...         53     0     0     0     0     0     0   \n",
       "2063734   482500       ...          0    58     0     0     0     2     0   \n",
       "3154517   419000       ...          0     0    53     0     0     0     0   \n",
       "955994    509000       ...          0     1     9   134     3     0     0   \n",
       "354717    543000       ...          0     0     0     0   156     0     0   \n",
       "1490260   515800       ...          0     0     0     0     0    60    23   \n",
       "2872642   510000       ...          0     0     0     0     0     0   147   \n",
       "3553479   512900       ...          0     0     0     0     0     0    10   \n",
       "\n",
       "         G_rf       OBP  OBP_per_dollar  \n",
       "4126654     0  0.257576    4.529999e-08  \n",
       "3771700     0  0.431818    1.018439e-06  \n",
       "2063734    34  0.376812    7.809567e-07  \n",
       "3154517     0  0.349515    8.341636e-07  \n",
       "955994      0  0.334426    6.570260e-07  \n",
       "354717      0  0.354839    6.534783e-07  \n",
       "1490260    41  0.334495    6.484970e-07  \n",
       "2872642     0  0.351351    6.889242e-07  \n",
       "3553479    93  0.367483    7.164814e-07  \n",
       "\n",
       "[9 rows x 22 columns]"
      ]
     },
     "execution_count": 232,
     "metadata": {},
     "output_type": "execute_result"
    }
   ],
   "source": [
    "best_players"
   ]
  },
  {
   "cell_type": "code",
   "execution_count": null,
   "metadata": {
    "collapsed": true
   },
   "outputs": [],
   "source": []
  }
 ],
 "metadata": {
  "kernelspec": {
   "display_name": "Python 3",
   "language": "python",
   "name": "python3"
  },
  "language_info": {
   "codemirror_mode": {
    "name": "ipython",
    "version": 3
   },
   "file_extension": ".py",
   "mimetype": "text/x-python",
   "name": "python",
   "nbconvert_exporter": "python",
   "pygments_lexer": "ipython3",
   "version": "3.5.1"
  }
 },
 "nbformat": 4,
 "nbformat_minor": 0
}
